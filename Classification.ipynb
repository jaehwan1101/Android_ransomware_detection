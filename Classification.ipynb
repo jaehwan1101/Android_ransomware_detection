{
 "cells": [
  {
   "cell_type": "code",
   "execution_count": 1,
   "metadata": {},
   "outputs": [
    {
     "name": "stdout",
     "output_type": "stream",
     "text": [
      "Pixel (0,0) difference: 1613.5809000000008\n",
      "Pixel (0,1) difference: -1838.6507000000001\n",
      "Pixel (0,2) difference: -436.9228499999999\n",
      "Pixel (0,3) difference: -8.2029\n",
      "Pixel (0,4) difference: -162.91644999999994\n",
      "Pixel (0,5) difference: 823.8804\n",
      "Pixel (1,0) difference: 596.8834999999999\n",
      "Pixel (1,1) difference: 178.0800999999999\n",
      "Pixel (1,2) difference: 117.56620000000021\n",
      "Pixel (1,3) difference: 205.2356000000001\n",
      "Pixel (1,4) difference: -823.9319\n",
      "Pixel (1,5) difference: 36.411550000000034\n",
      "Pixel (2,0) difference: -200.2156\n",
      "Pixel (2,1) difference: -260.96405000000004\n",
      "Pixel (2,2) difference: 114.29199999999992\n",
      "Pixel (2,3) difference: -202.02689999999984\n",
      "Pixel (2,4) difference: 89.27959999999985\n",
      "Pixel (2,5) difference: -851.9549999999999\n",
      "Pixel (3,0) difference: -432.53099999999995\n",
      "Pixel (3,1) difference: -851.9549999999999\n",
      "Pixel (3,2) difference: 517.7265000000007\n",
      "Pixel (3,3) difference: 2657.4442500000005\n",
      "Pixel (3,4) difference: 2582.0789999999997\n",
      "Pixel (3,5) difference: 823.8804\n",
      "Pixel (4,0) difference: -8.2029\n",
      "Pixel (4,1) difference: 427.00394999999844\n",
      "Pixel (4,2) difference: -13.655700000000024\n",
      "Pixel (4,3) difference: -11.21515\n",
      "Pixel (4,4) difference: -104.39309999999999\n",
      "Pixel (4,5) difference: -88.6131\n",
      "Pixel (5,0) difference: -150.02415\n",
      "Pixel (5,1) difference: -72.99180000000001\n",
      "Pixel (5,2) difference: -502.02205000000004\n",
      "Pixel (5,3) difference: -70.21965\n",
      "Pixel (5,4) difference: -550.6513\n",
      "Pixel (5,5) difference: -469.32230000000004\n"
     ]
    }
   ],
   "source": [
    "from PIL import Image\n",
    "import numpy as np\n",
    "import os\n",
    "\n",
    "# 이미지 디렉토리 설정\n",
    "benign_path = r'C:\\Users\\pc\\Desktop\\CNN\\Test_Image\\Benign'\n",
    "ransomware_path = r'C:\\Users\\pc\\Desktop\\CNN\\Test_Image\\Ransomware'\n",
    "\n",
    "# 이미지 로드 함수\n",
    "def load_images_from_folder(folder):\n",
    "    images = []\n",
    "    for filename in os.listdir(folder):\n",
    "        img = Image.open(os.path.join(folder, filename))\n",
    "        if img is not None:\n",
    "            images.append(np.array(img))\n",
    "    return np.array(images)\n",
    "\n",
    "# 이미지 로드\n",
    "benign_images = load_images_from_folder(benign_path)\n",
    "ransomware_images = load_images_from_folder(ransomware_path)\n",
    "\n",
    "# 픽셀별 평균 계산\n",
    "benign_means = np.mean(benign_images, axis=0)\n",
    "ransomware_means = np.mean(ransomware_images, axis=0)\n",
    "\n",
    "# 차이 계산\n",
    "differences = benign_means - ransomware_means\n",
    "\n",
    "# 차이 출력\n",
    "for i in range(6):\n",
    "    for j in range(6):\n",
    "        print(f\"Pixel ({i},{j}) difference: {differences[i,j]}\")"
   ]
  }
 ],
 "metadata": {
  "kernelspec": {
   "display_name": "Python 3",
   "language": "python",
   "name": "python3"
  },
  "language_info": {
   "codemirror_mode": {
    "name": "ipython",
    "version": 3
   },
   "file_extension": ".py",
   "mimetype": "text/x-python",
   "name": "python",
   "nbconvert_exporter": "python",
   "pygments_lexer": "ipython3",
   "version": "3.11.3"
  },
  "orig_nbformat": 4
 },
 "nbformat": 4,
 "nbformat_minor": 2
}
